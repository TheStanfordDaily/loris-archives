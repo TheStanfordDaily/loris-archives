{
 "cells": [
  {
   "cell_type": "code",
   "execution_count": null,
   "metadata": {},
   "outputs": [],
   "source": [
    "from bs4 import BeautifulSoup\n",
    "import pandas as pd\n",
    "from string import punctuation\n",
    "import spacy\n",
    "import re\n",
    "from IPython.core.display import display, HTML"
   ]
  },
  {
   "cell_type": "code",
   "execution_count": null,
   "metadata": {},
   "outputs": [],
   "source": [
    "df = pd.read_json('calm_records.json')"
   ]
  },
  {
   "cell_type": "code",
   "execution_count": null,
   "metadata": {},
   "outputs": [],
   "source": [
    "soup = BeautifulSoup(df.loc[269057]['AdminHistory'][0], 'html.parser')\n",
    "basic_text = soup.get_text()"
   ]
  },
  {
   "cell_type": "code",
   "execution_count": null,
   "metadata": {
    "scrolled": false
   },
   "outputs": [],
   "source": [
    "print(basic_text)"
   ]
  },
  {
   "cell_type": "code",
   "execution_count": null,
   "metadata": {},
   "outputs": [],
   "source": [
    "nlp = spacy.load('en')\n",
    "doc = nlp(basic_text)\n",
    "\n",
    "for ent in doc.ents:\n",
    "    if ent.label_ != 'DATE' and len(ent.text.split()) > 1:\n",
    "        words = ent.text.lower().split()\n",
    "        words = [word.replace(\"'s\", '') for word in words]\n",
    "        words = [word.translate(str.maketrans('', '', punctuation)) \n",
    "                 for word in words]\n",
    "\n",
    "        print('https://en.wikipedia.org/w/index.php?search=' + \n",
    "              '+'.join(words))"
   ]
  },
  {
   "cell_type": "code",
   "execution_count": null,
   "metadata": {},
   "outputs": [],
   "source": [
    "nlp = spacy.load('en')\n",
    "doc = nlp(basic_text)\n",
    "\n",
    "links = {}\n",
    "\n",
    "for ent in doc.ents:\n",
    "    if ent.label_ != 'DATE' and len(ent.text.split()) > 1:\n",
    "        words = ent.text.lower().split()\n",
    "        words = [word.translate(str.maketrans('', '', punctuation)) \n",
    "                 for word in words]\n",
    "        url = ('https://en.wikipedia.org/w/index.php?search=' + \n",
    "                '+'.join(words))\n",
    "        link = '<a href=\"{}\">{}</a>'.format(url, ent.text.strip())\n",
    "        links[ent.text.strip()] = link"
   ]
  },
  {
   "cell_type": "code",
   "execution_count": null,
   "metadata": {
    "scrolled": false
   },
   "outputs": [],
   "source": [
    "pattern = re.compile(r'\\b(' + '|'.join(links.keys()) + r')\\b')\n",
    "result = pattern.sub(lambda x: links[x.group()], str(soup))\n",
    "\n",
    "display(HTML(result))"
   ]
  }
 ],
 "metadata": {
  "kernelspec": {
   "display_name": "Python 3",
   "language": "python",
   "name": "python3"
  },
  "language_info": {
   "codemirror_mode": {
    "name": "ipython",
    "version": 3
   },
   "file_extension": ".py",
   "mimetype": "text/x-python",
   "name": "python",
   "nbconvert_exporter": "python",
   "pygments_lexer": "ipython3",
   "version": "3.6.5"
  }
 },
 "nbformat": 4,
 "nbformat_minor": 2
}
